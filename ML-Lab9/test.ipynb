{
 "cells": [
  {
   "cell_type": "code",
   "execution_count": 1,
   "metadata": {},
   "outputs": [],
   "source": [
    "import pandas as pd\n",
    "import numpy as np\n",
    "from typing import Tuple, Dict, List"
   ]
  },
  {
   "cell_type": "code",
   "execution_count": 77,
   "metadata": {},
   "outputs": [],
   "source": [
    "def adult_income_data_loader() -> Dict[str, List[np.ndarray]]:\n",
    "    df = pd.read_csv(\"adult.csv\")\n",
    "    df.drop(df.index[df['workclass'] == '?'], inplace=True)\n",
    "    df.drop(df.index[df['occupation'] == '?'], inplace=True)\n",
    "    df.drop(df.index[df['native-country'] == '?'], inplace=True)\n",
    "    df.dropna(how='any', inplace=True)\n",
    "    df = df.drop_duplicates()\n",
    "    df.drop(['education'], axis=1, inplace=True)\n",
    "    df['net_capital'] = (df['capital-gain'] - df['capital-loss']).astype(int)\n",
    "    df.drop(['capital-gain', 'capital-loss'], axis=1, inplace=True)\n",
    "    # changing class from >50K and <=50K to 1 and 0\n",
    "    df['income'] = df['income'].astype(str)\n",
    "    df['income'] = df['income'].replace('>50K', 1)\n",
    "    df['income'] = df['income'].replace('<=50K', -1)\n",
    "    # changing class from Male and Female to 1 and 0\n",
    "    df['gender'] = df['gender'].astype(str)\n",
    "    df['gender'] = df['gender'].replace('Male', 1)\n",
    "    df['gender'] = df['gender'].replace('Female', 0)\n",
    "    print(df.columns)\n",
    "    b = df.iloc[:, [0, 2, 3, 9, 12]]\n",
    "    ys = df['income'].to_numpy()\n",
    "    ys = ys.reshape(ys.shape[0], 1)\n",
    "    genders = df['gender'].to_numpy()\n",
    "    names = b.columns\n",
    "    xs = pd.DataFrame(b, columns=names).to_numpy()\n",
    "    xs = np.float64(xs)\n",
    "    # normalize features\n",
    "    xs /= np.max(xs, axis=0, keepdims=True)\n",
    "    idx = np.random.RandomState(42).permutation(xs.shape[0])\n",
    "    data = {'train': [xs[idx[:10000], :], ys[idx[:10000], :], genders[idx[:10000]]],\n",
    "            'test': [xs[idx[10000:20000], :], ys[idx[10000:20000], :], genders[idx[10000:20000]]]}\n",
    "    return data"
   ]
  },
  {
   "cell_type": "code",
   "execution_count": 78,
   "metadata": {},
   "outputs": [
    {
     "name": "stdout",
     "output_type": "stream",
     "text": [
      "Index(['age', 'workclass', 'fnlwgt', 'educational-num', 'marital-status',\n",
      "       'occupation', 'relationship', 'race', 'gender', 'hours-per-week',\n",
      "       'native-country', 'income', 'net_capital'],\n",
      "      dtype='object')\n"
     ]
    }
   ],
   "source": [
    "data = adult_income_data_loader()"
   ]
  },
  {
   "cell_type": "code",
   "execution_count": 75,
   "metadata": {},
   "outputs": [
    {
     "data": {
      "text/plain": [
       "10000"
      ]
     },
     "execution_count": 75,
     "metadata": {},
     "output_type": "execute_result"
    }
   ],
   "source": [
    "data['train'][2].__len__()"
   ]
  },
  {
   "cell_type": "code",
   "execution_count": 79,
   "metadata": {},
   "outputs": [
    {
     "data": {
      "text/plain": [
       "array([[-1],\n",
       "       [-1],\n",
       "       [-1],\n",
       "       ...,\n",
       "       [ 1],\n",
       "       [-1],\n",
       "       [-1]])"
      ]
     },
     "execution_count": 79,
     "metadata": {},
     "output_type": "execute_result"
    }
   ],
   "source": [
    "data['train'][1]"
   ]
  },
  {
   "cell_type": "code",
   "execution_count": 4,
   "metadata": {},
   "outputs": [],
   "source": [
    "xs, ys = data['train'][0], data['train'][1]"
   ]
  },
  {
   "cell_type": "code",
   "execution_count": 26,
   "metadata": {},
   "outputs": [
    {
     "data": {
      "text/plain": [
       "array([[1, 0],\n",
       "       [0, 1],\n",
       "       [1, 0],\n",
       "       ...,\n",
       "       [0, 1],\n",
       "       [0, 1],\n",
       "       [1, 0]], dtype=uint8)"
      ]
     },
     "execution_count": 26,
     "metadata": {},
     "output_type": "execute_result"
    }
   ],
   "source": [
    "pd.get_dummies(data['train'][2]).to_numpy()"
   ]
  },
  {
   "cell_type": "code",
   "execution_count": 11,
   "metadata": {},
   "outputs": [
    {
     "data": {
      "text/plain": [
       "array([[0.21111111, 0.1255777 , 0.625     , 0.18181818, 0.        ],\n",
       "       [0.32222222, 0.10788111, 0.625     , 0.46464646, 0.        ],\n",
       "       [0.54444444, 0.13712896, 0.4375    , 0.60606061, 0.        ],\n",
       "       ...,\n",
       "       [0.54444444, 0.12168747, 0.875     , 0.45454545, 0.        ],\n",
       "       [0.26666667, 0.20168009, 0.5625    , 0.4040404 , 0.        ],\n",
       "       [0.3       , 0.07639962, 0.5625    , 0.3030303 , 0.        ]])"
      ]
     },
     "execution_count": 11,
     "metadata": {},
     "output_type": "execute_result"
    }
   ],
   "source": [
    "xs"
   ]
  },
  {
   "cell_type": "code",
   "execution_count": 5,
   "metadata": {},
   "outputs": [
    {
     "name": "stdout",
     "output_type": "stream",
     "text": [
      "(2453, 5)\n",
      "(7547, 5)\n"
     ]
    }
   ],
   "source": [
    "print(xs[np.where(ys == 1)[0]].shape)\n",
    "print(xs[np.where(ys == 0)[0]].shape)"
   ]
  },
  {
   "cell_type": "code",
   "execution_count": 8,
   "metadata": {},
   "outputs": [
    {
     "data": {
      "text/plain": [
       "array([[ 1. ],\n",
       "       [-1. ],\n",
       "       [ 0.5]])"
      ]
     },
     "execution_count": 8,
     "metadata": {},
     "output_type": "execute_result"
    }
   ],
   "source": [
    "a = np.array([[1],[-1],[0.5]])\n",
    "a\n",
    "b = a.copy()\n",
    "b"
   ]
  },
  {
   "cell_type": "code",
   "execution_count": 9,
   "metadata": {},
   "outputs": [
    {
     "data": {
      "text/plain": [
       "array([[1. ],\n",
       "       [0. ],\n",
       "       [0.5]])"
      ]
     },
     "execution_count": 9,
     "metadata": {},
     "output_type": "execute_result"
    }
   ],
   "source": [
    "a[np.where(a < 0)[0]] = 0 \n",
    "a"
   ]
  },
  {
   "cell_type": "code",
   "execution_count": 10,
   "metadata": {},
   "outputs": [
    {
     "data": {
      "text/plain": [
       "array([[ 1. ],\n",
       "       [-1. ],\n",
       "       [ 0.5]])"
      ]
     },
     "execution_count": 10,
     "metadata": {},
     "output_type": "execute_result"
    }
   ],
   "source": [
    "b"
   ]
  },
  {
   "cell_type": "code",
   "execution_count": 58,
   "metadata": {},
   "outputs": [],
   "source": [
    "m1 = np.mean(xs1, axis = 0).reshape(-1, 1)"
   ]
  },
  {
   "cell_type": "code",
   "execution_count": 59,
   "metadata": {},
   "outputs": [
    {
     "data": {
      "text/plain": [
       "array([[-0.09795715,  0.00699212,  0.02675296, -0.0586048 , -0.0368412 ],\n",
       "       [ 0.10204285, -0.09867616, -0.16074704, -0.0586048 , -0.0368412 ],\n",
       "       [ 0.05759841, -0.01344736,  0.21425296,  0.39594065, -0.0368412 ],\n",
       "       ...,\n",
       "       [ 0.06870952, -0.04313939, -0.09824704,  0.5373548 , -0.0368412 ],\n",
       "       [-0.04240159,  0.1453751 , -0.09824704, -0.0586048 , -0.0368412 ],\n",
       "       [ 0.05759841, -0.00136268,  0.15175296, -0.00809975, -0.0368412 ]])"
      ]
     },
     "execution_count": 59,
     "metadata": {},
     "output_type": "execute_result"
    }
   ],
   "source": [
    "xs1 = xs1 - np.mean(xs1, axis = 0)\n",
    "xs1"
   ]
  },
  {
   "cell_type": "code",
   "execution_count": 148,
   "metadata": {},
   "outputs": [],
   "source": [
    "def linear_discriminant_analysis_2class(xs: np.ndarray, ys: np.ndarray) -> Tuple[np.ndarray, float]:\n",
    "    \"\"\"\n",
    "    Learning a LDA model for two classes: learning w and c for checking x^T w > c or not\n",
    "    :param xs: training data with size (N, D)\n",
    "    :param ys: training labels with size (N, 1), whose element is 0 or 1\n",
    "\n",
    "    :return:\n",
    "        the weights \"w\" of LDA with size (D, 1),\n",
    "        the criterion \"c\"\n",
    "    \"\"\"\n",
    "    # TODO: Implement the LDA method and output the projection vector and the criterion\n",
    "    xs1 = xs[np.where(ys == 1)[0]]\n",
    "    xs0 = xs[np.where(ys == 0)[0]]\n",
    "    m1 = np.mean(xs1, axis = 0).reshape(-1, 1)\n",
    "    m0 = np.mean(xs0, axis = 0).reshape(-1, 1)\n",
    "    xs1 = xs1 - np.mean(xs1, axis = 0)\n",
    "    xs0 = xs1 - np.mean(xs0, axis = 0)\n",
    "    xs2 = xs - np.mean(xs, axis = 0)\n",
    "    # Sw = (xs1.T @ xs1) / (xs1.shape[0]) + (xs0.T @ xs0) / xs0.shape[0]\n",
    "    Sw = xs2.T @ xs2 / (xs2.shape[0] - 1)\n",
    "    W = np.linalg.inv(np.diag(Sw) * np.eye(Sw.shape[0])) @ (m1 - m0)\n",
    "    c = (W.T @ (0.5 * (m1 + m0))).item()\n",
    "    return W, c"
   ]
  },
  {
   "cell_type": "code",
   "execution_count": 149,
   "metadata": {},
   "outputs": [],
   "source": [
    "w, c = linear_discriminant_analysis_2class(xs, ys)"
   ]
  },
  {
   "cell_type": "code",
   "execution_count": 150,
   "metadata": {},
   "outputs": [
    {
     "data": {
      "text/plain": [
       "array([[1., 0., 0.],\n",
       "       [0., 3., 0.],\n",
       "       [0., 0., 5.]])"
      ]
     },
     "execution_count": 150,
     "metadata": {},
     "output_type": "execute_result"
    }
   ],
   "source": [
    "np.array([1,3,5]) * np.eye(3)"
   ]
  },
  {
   "cell_type": "code",
   "execution_count": 151,
   "metadata": {},
   "outputs": [
    {
     "data": {
      "text/plain": [
       "array([[4.43248012],\n",
       "       [6.11339017],\n",
       "       [6.58467303],\n",
       "       ...,\n",
       "       [8.0305007 ],\n",
       "       [5.2424563 ],\n",
       "       [5.03989542]])"
      ]
     },
     "execution_count": 151,
     "metadata": {},
     "output_type": "execute_result"
    }
   ],
   "source": [
    "ypred = xs @ w\n",
    "ypred"
   ]
  },
  {
   "cell_type": "code",
   "execution_count": 152,
   "metadata": {},
   "outputs": [],
   "source": [
    "ypred[ypred > c] = 1\n",
    "ypred[ypred != 1] = 0"
   ]
  },
  {
   "cell_type": "code",
   "execution_count": 153,
   "metadata": {},
   "outputs": [
    {
     "data": {
      "text/plain": [
       "0.7374"
      ]
     },
     "execution_count": 153,
     "metadata": {},
     "output_type": "execute_result"
    }
   ],
   "source": [
    "1 - (np.sum(np.abs(ypred - ys)) / ypred.shape[0])"
   ]
  },
  {
   "cell_type": "code",
   "execution_count": 63,
   "metadata": {},
   "outputs": [
    {
     "data": {
      "text/plain": [
       "array([0, 1, 0, ..., 1, 1, 0])"
      ]
     },
     "execution_count": 63,
     "metadata": {},
     "output_type": "execute_result"
    }
   ],
   "source": [
    "data['train'][2]"
   ]
  },
  {
   "cell_type": "code",
   "execution_count": 81,
   "metadata": {},
   "outputs": [
    {
     "data": {
      "text/plain": [
       "(array([[-1],\n",
       "        [-1],\n",
       "        [-1],\n",
       "        ...,\n",
       "        [ 1],\n",
       "        [-1],\n",
       "        [-1]]),\n",
       " array([0, 1, 0, ..., 1, 1, 0]))"
      ]
     },
     "execution_count": 81,
     "metadata": {},
     "output_type": "execute_result"
    }
   ],
   "source": [
    "data['train'][1] , data['train'][2]"
   ]
  },
  {
   "cell_type": "code",
   "execution_count": 96,
   "metadata": {},
   "outputs": [],
   "source": [
    "c = data['train'][1][data['train'][2] == 1]"
   ]
  },
  {
   "cell_type": "code",
   "execution_count": 97,
   "metadata": {},
   "outputs": [],
   "source": [
    "d = data['train'][1][data['train'][2] == 0]"
   ]
  },
  {
   "cell_type": "code",
   "execution_count": 100,
   "metadata": {},
   "outputs": [
    {
     "data": {
      "text/plain": [
       "0.3106465005931198"
      ]
     },
     "execution_count": 100,
     "metadata": {},
     "output_type": "execute_result"
    }
   ],
   "source": [
    "c[c == 1].sum() / c.shape[0]"
   ]
  },
  {
   "cell_type": "code",
   "execution_count": 99,
   "metadata": {},
   "outputs": [
    {
     "data": {
      "text/plain": [
       "0.10995085995085994"
      ]
     },
     "execution_count": 99,
     "metadata": {},
     "output_type": "execute_result"
    }
   ],
   "source": [
    "d[d == 1].sum() / d.shape[0]"
   ]
  },
  {
   "cell_type": "code",
   "execution_count": 103,
   "metadata": {},
   "outputs": [],
   "source": [
    "ind = np.where(data['train'][2] == 0)[0]"
   ]
  },
  {
   "cell_type": "code",
   "execution_count": 104,
   "metadata": {},
   "outputs": [
    {
     "data": {
      "text/plain": [
       "array([   0,    2,    4, ..., 9991, 9993, 9999])"
      ]
     },
     "execution_count": 104,
     "metadata": {},
     "output_type": "execute_result"
    }
   ],
   "source": [
    "ind"
   ]
  },
  {
   "cell_type": "code",
   "execution_count": 105,
   "metadata": {},
   "outputs": [
    {
     "data": {
      "text/plain": [
       "array([3820, 2971,  966, ..., 3285,  755, 3195])"
      ]
     },
     "execution_count": 105,
     "metadata": {},
     "output_type": "execute_result"
    }
   ],
   "source": [
    "np.random.RandomState(1).shuffle(ind)\n",
    "ind"
   ]
  }
 ],
 "metadata": {
  "interpreter": {
   "hash": "802171431c468a0e1d7af8eb290a64c5a0b5e31010cbf08f3b2a714236f45425"
  },
  "kernelspec": {
   "display_name": "Python 3.9.2 ('base')",
   "language": "python",
   "name": "python3"
  },
  "language_info": {
   "codemirror_mode": {
    "name": "ipython",
    "version": 3
   },
   "file_extension": ".py",
   "mimetype": "text/x-python",
   "name": "python",
   "nbconvert_exporter": "python",
   "pygments_lexer": "ipython3",
   "version": "3.9.2"
  },
  "orig_nbformat": 4
 },
 "nbformat": 4,
 "nbformat_minor": 2
}
