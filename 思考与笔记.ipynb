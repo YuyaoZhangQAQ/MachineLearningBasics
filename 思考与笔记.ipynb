{
 "cells": [
  {
   "cell_type": "markdown",
   "metadata": {},
   "source": [
    "#### 方法 Method\n",
    "\n",
    "**实例方法** \n",
    "\n",
    " 实例方法用于实现类的实例的行为。 实例方法只能在类的实例的上下文中调用。\n",
    "\n",
    "**静态方法**\n",
    "\n",
    "如果一个方法不写 `self` 即不需要使用对象封装的值，此时在定义方法的时候要用 `@staticmethod` 对函数进行修饰，被修饰的函数就可以不写 `self`\n",
    "\n",
    "一句话：被 `@staticmethod` 修饰的方法，就是静态方法\n",
    "\n",
    "**类方法**\n",
    "\n",
    "原则上，类方法是将类本身作为对象进行操作的方法。"
   ]
  },
  {
   "cell_type": "code",
   "execution_count": 4,
   "metadata": {},
   "outputs": [
    {
     "name": "stdout",
     "output_type": "stream",
     "text": [
      "姚哥强强\n",
      "姚哥 太强了！\n"
     ]
    }
   ],
   "source": [
    "class Person(object) :\n",
    "    def __init__(self , name) : # init是实例方法的一种，也叫做构造方法\n",
    "        self.name = name #创造实例对象\n",
    "    \n",
    "    def func(self) :\n",
    "        print(self.name)\n",
    "\n",
    "    @staticmethod\n",
    "    def func() :\n",
    "        print('姚哥强强')\n",
    "        \n",
    "    @classmethod\n",
    "    def show(cls, x1: str, x2: str) : # cls: 与self含义一样，区别在于：\n",
    "        print(x1,x2)                  # 一个指代的是 类， 一个是实例化的对象\n",
    "\n",
    "Yxh = Person('姚鑫浩') #实例化了一个“对象” Yxh是一个“对象”\n",
    "\n",
    "#执行实例方法\n",
    "Yxh.func()\n",
    "\n",
    "# 执行类方法\n",
    "Person.show('姚哥','太强了！')"
   ]
  },
  {
   "cell_type": "markdown",
   "metadata": {},
   "source": [
    "#### 公有和私有\n",
    "在变量或者方法前面增加 `__` 就可以将其变为私有变量或者私有方法\n",
    "\n",
    "此时不能通过外界访问或调用\n",
    "\n",
    "只能通过内部的公有方法访问或者调用"
   ]
  },
  {
   "cell_type": "code",
   "execution_count": 7,
   "metadata": {},
   "outputs": [
    {
     "name": "stdout",
     "output_type": "stream",
     "text": [
      "姚哥强强\n",
      "178\n"
     ]
    },
    {
     "ename": "AttributeError",
     "evalue": "'Person' object has no attribute '__height'",
     "output_type": "error",
     "traceback": [
      "\u001b[0;31m---------------------------------------------------------------------------\u001b[0m",
      "\u001b[0;31mAttributeError\u001b[0m                            Traceback (most recent call last)",
      "\u001b[0;32m<ipython-input-7-5d3499f50606>\u001b[0m in \u001b[0;36m<module>\u001b[0;34m\u001b[0m\n\u001b[1;32m     23\u001b[0m \u001b[0mYxh\u001b[0m\u001b[0;34m.\u001b[0m\u001b[0mfunc\u001b[0m\u001b[0;34m(\u001b[0m\u001b[0;34m)\u001b[0m\u001b[0;34m\u001b[0m\u001b[0;34m\u001b[0m\u001b[0m\n\u001b[1;32m     24\u001b[0m \u001b[0mYxh\u001b[0m\u001b[0;34m.\u001b[0m\u001b[0mcheck_height\u001b[0m\u001b[0;34m(\u001b[0m\u001b[0;34m)\u001b[0m\u001b[0;34m\u001b[0m\u001b[0;34m\u001b[0m\u001b[0m\n\u001b[0;32m---> 25\u001b[0;31m \u001b[0mYxh\u001b[0m\u001b[0;34m.\u001b[0m\u001b[0m__height\u001b[0m\u001b[0;34m\u001b[0m\u001b[0;34m\u001b[0m\u001b[0m\n\u001b[0m",
      "\u001b[0;31mAttributeError\u001b[0m: 'Person' object has no attribute '__height'"
     ]
    }
   ],
   "source": [
    "class Person(object) :\n",
    "    def __init__(self , name) : # init是实例方法的一种，也叫做构造方法\n",
    "        self.name = name #创造实例对象\n",
    "        self.__height = 178\n",
    "    \n",
    "    def func(self) :\n",
    "        print(self.name)\n",
    "        \n",
    "    def check_height(self) :\n",
    "        print(self.__height)\n",
    "\n",
    "    @staticmethod #与静态方法固定出现\n",
    "    def func() :\n",
    "        print('姚哥强强')\n",
    "        \n",
    "    @classmethod  # 与类方法固定出现\n",
    "    def show(cls, x1: str, x2: str) : # cls: 与self含义一样，区别在于：\n",
    "        print(x1,x2)                  # 一个指代的是 类， 一个是实例化的对象\n",
    "\n",
    "Yxh = Person('姚鑫浩') #实例化了一个“对象” Yxh是一个“对象”\n",
    "\n",
    "#执行实例方法\n",
    "Yxh.func()\n",
    "Yxh.check_height()\n",
    "Yxh.__height # 不能访问私有变量 私有方法同理"
   ]
  },
  {
   "cell_type": "markdown",
   "metadata": {},
   "source": [
    "#### 属性 Attribute\n",
    "与 `@property` 同时出现\n",
    "\n",
    "里面写为 `return`\n",
    "\n",
    "调用时就是该实例/类的一个属性，而不是一个方法，就不用在调用时在后面加 `()`\n",
    "\n",
    "但是编写时还是要加 `self`\n",
    "\n",
    "* 属性 也分 公私有之分"
   ]
  },
  {
   "cell_type": "code",
   "execution_count": 10,
   "metadata": {},
   "outputs": [
    {
     "name": "stdout",
     "output_type": "stream",
     "text": [
      "姚鑫浩\n",
      "178\n"
     ]
    },
    {
     "data": {
      "text/plain": [
       "178"
      ]
     },
     "execution_count": 10,
     "metadata": {},
     "output_type": "execute_result"
    }
   ],
   "source": [
    "class Person(object) :\n",
    "    def __init__(self , name) : # init是实例方法的一种，也叫做构造方法\n",
    "        self.name = name #创造实例对象\n",
    "        self.height = 178\n",
    "    \n",
    "    def func(self) :\n",
    "        print(self.name)\n",
    "        \n",
    "    def check_height(self) :\n",
    "        print(self.height)\n",
    "        \n",
    "    @property\n",
    "    def height(self) :\n",
    "        return self.height\n",
    "\n",
    "Yxh = Person('姚鑫浩') #实例化了一个“对象” Yxh是一个“对象”\n",
    "\n",
    "#执行实例方法\n",
    "Yxh.func()\n",
    "Yxh.check_height()\n",
    "Yxh.height # 不能访问私有变量 私有方法同理"
   ]
  },
  {
   "cell_type": "markdown",
   "metadata": {},
   "source": [
    "#### 主动调用其他类的方法\n",
    "\n",
    "method1: `类名.method(self)` 这种与两个类是否有继承关系无关\n",
    "\n",
    "method2: `super().method()` 按照类的继承顺序，找下一个，\n",
    "\n",
    "例如如下代码，`obj` 是一个Info()类的实例对象，它按照继承顺序从左到右调用父类的方法，先去Foo()类找到 `f1()`，该方法中有`super()`，是按照Info()类的下一个找的，也就是去了Bar()类里调用，所以先打印的是bar，再打印foo。"
   ]
  },
  {
   "cell_type": "code",
   "execution_count": 11,
   "metadata": {},
   "outputs": [
    {
     "name": "stdout",
     "output_type": "stream",
     "text": [
      "bar\n",
      "foo\n"
     ]
    }
   ],
   "source": [
    "class Foo(object) :\n",
    "    def f1(self) :\n",
    "        super().f1()\n",
    "        print('foo')\n",
    "        \n",
    "class Bar(object) :\n",
    "    def f1(self) :\n",
    "        print('bar')\n",
    "        \n",
    "class Info(Foo, Bar) :\n",
    "    pass\n",
    "obj = Info()\n",
    "obj.f1()"
   ]
  },
  {
   "cell_type": "markdown",
   "metadata": {},
   "source": [
    "#### 特殊成员\n",
    "\n",
    "1. `__init__(self, x1, x2, ...)`  构造方法（但其实new才是，一半一半，更严格时new），实例化时自动执行 ---> `类()` 时执行\n",
    "\n",
    "2. `__call__(self, *args, **kwargs)` ---> `对象()` 时执行\n",
    "\n",
    "3. `__getitem(self, item)`  ---> `对象[]` 时执行\n",
    "\n",
    "4. `__setitem(self, key, value)` ---> `对象[xx] == xxx` 时执行\n",
    "\n",
    "5. `__delitem(self, key, value)` ---> `del 对象[xx]` 时执行\n",
    "\n",
    "6. `__add__(self, other)` ---> `对象+对象`\n",
    "\n",
    "7. `__enter__(self) / __exit(....)` ---> `with 对象`"
   ]
  },
  {
   "cell_type": "code",
   "execution_count": 1,
   "metadata": {},
   "outputs": [
    {
     "data": {
      "text/plain": [
       "array([[1, 2, 3],\n",
       "       [4, 5, 6],\n",
       "       [7, 8, 9]])"
      ]
     },
     "execution_count": 1,
     "metadata": {},
     "output_type": "execute_result"
    }
   ],
   "source": [
    "import numpy as np\n",
    "a = np.array([\n",
    "    [1,2,3],\n",
    "    [4,5,6],\n",
    "    [7,8,9]\n",
    "])\n",
    "a"
   ]
  },
  {
   "cell_type": "code",
   "execution_count": 7,
   "metadata": {},
   "outputs": [
    {
     "data": {
      "text/plain": [
       "(1, 3)"
      ]
     },
     "execution_count": 7,
     "metadata": {},
     "output_type": "execute_result"
    }
   ],
   "source": [
    "mu = a.mean(axis = 0, keepdims = True)\n",
    "mu.shape"
   ]
  }
 ],
 "metadata": {
  "interpreter": {
   "hash": "802171431c468a0e1d7af8eb290a64c5a0b5e31010cbf08f3b2a714236f45425"
  },
  "kernelspec": {
   "display_name": "Python 3.9.2",
   "language": "python",
   "name": "python3"
  },
  "language_info": {
   "codemirror_mode": {
    "name": "ipython",
    "version": 3
   },
   "file_extension": ".py",
   "mimetype": "text/x-python",
   "name": "python",
   "nbconvert_exporter": "python",
   "pygments_lexer": "ipython3",
   "version": "3.9.2"
  },
  "orig_nbformat": 4
 },
 "nbformat": 4,
 "nbformat_minor": 2
}
